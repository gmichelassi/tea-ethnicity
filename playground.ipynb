{
 "cells": [
  {
   "cell_type": "code",
   "source": [
    "import tensorflow as tf\n",
    "import matplotlib.pyplot as plt\n",
    "from sklearn.decomposition import PCA, FastICA"
   ],
   "metadata": {
    "collapsed": false
   },
   "id": "initial_id",
   "outputs": [],
   "execution_count": null
  },
  {
   "cell_type": "code",
   "source": [
    "batch_size = 100\n",
    "img_height = 224\n",
    "img_width = 224\n",
    "DATASET_FOLDER = 'ethnicity/data/fairface-ethnicity/'"
   ],
   "metadata": {
    "collapsed": false
   },
   "id": "8912ae46693641e1",
   "outputs": [],
   "execution_count": null
  },
  {
   "cell_type": "code",
   "source": [
    "training_dataset, validation_dataset = tf.keras.preprocessing.image_dataset_from_directory(\n",
    "    directory=DATASET_FOLDER,\n",
    "    labels='inferred',\n",
    "    label_mode='categorical',\n",
    "    color_mode='grayscale',\n",
    "    image_size=(img_height, img_width),\n",
    "    batch_size=batch_size,\n",
    "    validation_split=0.2,\n",
    "    subset='both',\n",
    "    shuffle=True,\n",
    "    seed=97623,\n",
    ")"
   ],
   "metadata": {
    "collapsed": false
   },
   "id": "75145869c59d41e0",
   "outputs": [],
   "execution_count": null
  },
  {
   "cell_type": "markdown",
   "source": [
    "# Displaying the first 100 images"
   ],
   "metadata": {
    "collapsed": false
   },
   "id": "de085cf6bd5f2cf7"
  },
  {
   "cell_type": "code",
   "source": [
    "plt.figure(figsize=(10, 10))\n",
    "for images, labels in training_dataset.take(1):\n",
    "    for i in range(100):\n",
    "        ax = plt.subplot(10, 10, i + 1)\n",
    "        plt.imshow(images[i].numpy().astype(\"uint8\"), cmap='gray')\n",
    "        # plt.title(training_dataset.class_names[np.argmax(labels[i])])\n",
    "        plt.axis(\"off\")\n",
    "\n",
    "plt.show()\n"
   ],
   "metadata": {
    "collapsed": false
   },
   "id": "1c08025e6700bc52",
   "outputs": [],
   "execution_count": null
  },
  {
   "cell_type": "markdown",
   "source": [
    "# PCA"
   ],
   "metadata": {
    "collapsed": false
   },
   "id": "8e57a534e36393a5"
  },
  {
   "cell_type": "code",
   "source": [
    "batch = training_dataset.as_numpy_iterator().next()\n",
    "\n",
    "print('Dimensão de um Batch de dados', batch[0].shape)\n",
    "\n",
    "data = batch[0].reshape(100, -1)\n",
    "\n",
    "print('Dimensão de um Batch de dados após reshape', data.shape)\n",
    "pca = PCA(n_components=40)\n",
    "pca_data = pca.fit_transform(data.T).T\n",
    "pca_data = pca_data.reshape(40, 224, 224)\n",
    "\n",
    "fig=plt.figure(figsize=(30, 30))\n",
    "\n",
    "columns = 8\n",
    "rows = 5\n",
    "\n",
    "for i in range(1, columns*rows +1):\n",
    "    fig.add_subplot(rows, columns, i)\n",
    "    plt.imshow(pca_data[i-1], cmap='gray')\n",
    "    plt.axis('off')\n",
    "    plt.title(str(i))\n",
    "    \n",
    "plt.show()"
   ],
   "metadata": {
    "collapsed": false
   },
   "id": "5a769e74c8d19919",
   "outputs": [],
   "execution_count": null
  },
  {
   "cell_type": "markdown",
   "source": [
    "# ICA"
   ],
   "metadata": {
    "collapsed": false
   },
   "id": "63f5aeb7b4c696"
  },
  {
   "cell_type": "code",
   "source": [
    "batch = training_dataset.as_numpy_iterator().next()\n",
    "\n",
    "print('Dimensão de um Batch de dados', batch[0].shape)\n",
    "\n",
    "data = batch[0].reshape(100, -1)\n",
    "\n",
    "print('Dimensão de um Batch de dados após reshape', data.shape)\n",
    "ica = FastICA(n_components=40)\n",
    "ica_data = ica.fit_transform(data.T).T\n",
    "ica_data = ica_data.reshape(40, 224, 224)\n",
    "\n",
    "fig=plt.figure(figsize=(30, 30))\n",
    "\n",
    "columns = 8\n",
    "rows = 5\n",
    "\n",
    "for i in range(1, columns*rows +1):\n",
    "    fig.add_subplot(rows, columns, i)\n",
    "    plt.imshow(ica_data[i-1], cmap='gray')\n",
    "    plt.axis('off')\n",
    "    plt.title(str(i))\n",
    "    \n",
    "plt.show()"
   ],
   "metadata": {
    "collapsed": false
   },
   "id": "f1365f8ed83708e1",
   "outputs": [],
   "execution_count": null
  },
  {
   "cell_type": "markdown",
   "source": "# Scikit-Learn Gaussian Mixture Models",
   "metadata": {
    "collapsed": false
   },
   "id": "3d324da512a75d67"
  },
  {
   "metadata": {},
   "cell_type": "code",
   "source": [
    "from sklearn.mixture import GaussianMixture\n",
    "import seaborn as sns\n",
    "import matplotlib.pyplot as plt\n",
    "import numpy as np\n",
    "import random"
   ],
   "id": "aff7d72e94635b96",
   "outputs": [],
   "execution_count": null
  },
  {
   "metadata": {},
   "cell_type": "code",
   "source": [
    "training_dataset, validation_dataset = tf.keras.preprocessing.image_dataset_from_directory(\n",
    "    directory=DATASET_FOLDER,\n",
    "    labels='inferred',\n",
    "    label_mode='categorical',\n",
    "    color_mode='grayscale',\n",
    "    image_size=(img_height, img_width),\n",
    "    batch_size=None,\n",
    "    validation_split=0.2,\n",
    "    subset='both',\n",
    "    shuffle=True,\n",
    "    seed=97623,\n",
    ")"
   ],
   "id": "c358faa1aa708ea2",
   "outputs": [],
   "execution_count": null
  },
  {
   "metadata": {},
   "cell_type": "code",
   "source": [
    "n_samples = 2000\n",
    "n_components = 7"
   ],
   "id": "f1dbcf7c6901e939",
   "outputs": [],
   "execution_count": null
  },
  {
   "metadata": {},
   "cell_type": "code",
   "source": [
    "# Flatten some images to fit the model\n",
    "data = np.array([img for img, _ in training_dataset.take(n_samples)]).reshape(n_samples, -1)\n",
    "\n",
    "print('Data shape:', data.shape)"
   ],
   "id": "b1b2ea5a4c47ef51",
   "outputs": [],
   "execution_count": null
  },
  {
   "metadata": {},
   "cell_type": "code",
   "source": [
    "gaussian_mixture_model = GaussianMixture(n_components=n_components)\n",
    "\n",
    "gaussian_mixture_model.fit(data)"
   ],
   "id": "27936d9e3ea2b39e",
   "outputs": [],
   "execution_count": null
  },
  {
   "metadata": {},
   "cell_type": "code",
   "source": "",
   "id": "9276d44c48ff454a",
   "outputs": [],
   "execution_count": null
  },
  {
   "metadata": {},
   "cell_type": "markdown",
   "source": [
    "\n",
    "# Próximos testes\n",
    "\n",
    "1. PCA p/ cada de etnia\n",
    "Sabemos o que varia mais pra cada etnia\n",
    "\n",
    "Podemos usar essa informação para criar uma mistura?\n",
    "\n",
    "\n",
    "a. Modelar a mistura em nível baixo (com os prórpios pixels das imagens)\n",
    "\n",
    "b. Modelar mistura com as features de uma rede neural\n",
    "\n",
    "c. PCA Supervisionado\n",
    "- https://www.sciencedirect.com/science/article/pii/S0031320310005819\n",
    "\n",
    "\n",
    "PRÓXIMA SEMANA\n",
    "\n",
    "- APRESENTAÇÃO DO PCA SUPERVISIONADO"
   ],
   "id": "931cdd0856a69a96"
  }
 ],
 "metadata": {
  "kernelspec": {
   "display_name": "Python 3",
   "language": "python",
   "name": "python3"
  },
  "language_info": {
   "codemirror_mode": {
    "name": "ipython",
    "version": 2
   },
   "file_extension": ".py",
   "mimetype": "text/x-python",
   "name": "python",
   "nbconvert_exporter": "python",
   "pygments_lexer": "ipython2",
   "version": "2.7.6"
  }
 },
 "nbformat": 4,
 "nbformat_minor": 5
}
